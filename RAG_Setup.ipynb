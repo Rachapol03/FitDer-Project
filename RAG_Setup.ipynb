{
 "cells": [
  {
   "cell_type": "code",
   "execution_count": null,
   "id": "2e98ceeb",
   "metadata": {},
   "outputs": [],
   "source": [
    "# !pip install -r \"RAG_requirement.txt\""
   ]
  },
  {
   "cell_type": "markdown",
   "id": "ccf6672a",
   "metadata": {},
   "source": [
    "SETUP DATA BASE ทำครั้งเดียวตอนเรื่องทำ DB ใหม่"
   ]
  },
  {
   "cell_type": "code",
   "execution_count": null,
   "id": "32f610cc",
   "metadata": {},
   "outputs": [],
   "source": [
    "import psycopg2\n",
    "\n",
    "conn = psycopg2.connect(\n",
    "    dbname=\"fitderdb\",\n",
    "    user=\"admin\",\n",
    "    password=\"1234\",\n",
    "    host=\"localhost\",\n",
    "    port=\"5432\"\n",
    ") #connect to db\n",
    "\n",
    "cur = conn.cursor()\n",
    "\n",
    "# cur.execute(\"CREATE EXTENSION vector;\") # สร้าง table ไว้เก็บ vector (ทำครั้งเดียว)\n",
    "\n",
    "cur.execute(\"\"\"CREATE TABLE IF NOT EXISTS documents (\n",
    "            id SERIAL PRIMARY KEY,\n",
    "            content TEXT,\n",
    "            embedding vector(1024)\n",
    "            )\"\"\") # setting database\n",
    "\n",
    "conn.commit()\n",
    "cur.close()\n",
    "conn.close()"
   ]
  },
  {
   "cell_type": "markdown",
   "id": "d32b3d13",
   "metadata": {},
   "source": [
    "ใส่ข้อมูลลงไปใน DATABASE เพื่อให้ model เอาไปตอบ"
   ]
  },
  {
   "cell_type": "code",
   "execution_count": null,
   "id": "2368d8a8",
   "metadata": {},
   "outputs": [],
   "source": [
    "# input ข้อมูลเข้าเป็น file txt\n",
    "import psycopg2\n",
    "from sentence_transformers import SentenceTransformer\n",
    "\n",
    "# --- ส่วนการอ่านไฟล์ ---\n",
    "file_path = \"your_documents.txt\" # เปลี่ยนเป็นพาธของไฟล์ .txt ของคุณ\n",
    "\n",
    "# รายละเอียดการเชื่อมต่อฐานข้อมูล\n",
    "conn = psycopg2.connect(\n",
    "    dbname=\"fitderdb\",\n",
    "    user=\"admin\",\n",
    "    password=\"1234\",\n",
    "    host=\"localhost\",\n",
    "    port=\"5432\"\n",
    ")\n",
    "cur = conn.cursor()\n",
    "\n",
    "# โมเดล Sentence Transformer สำหรับแปลงข้อความเป็นเวกเตอร์\n",
    "embed = SentenceTransformer(\"BAAI/bge-m3\")\n",
    "\n",
    "def add_doc(text):\n",
    "    \"\"\"\n",
    "    แปลงข้อความเป็นเวกเตอร์ฝังตัว (embedding) และแทรกลงในตาราง 'documents'\n",
    "    \"\"\"\n",
    "    em = embed.encode(text).tolist()\n",
    "    cur.execute(\"INSERT INTO documents (content, em) VALUES (%s, %s)\", (text, em))\n",
    "    conn.commit() # อย่าลืมเรียก conn.commit() เป็นฟังก์ชัน!\n",
    "\n",
    "try:\n",
    "    with open(file_path, 'r', encoding='utf-8') as f:\n",
    "        # อ่านแต่ละบรรทัดจากไฟล์เป็นเอกสารแยกกัน\n",
    "        for line in f:\n",
    "            document_content = line.strip() # .strip() ลบช่องว่างและอักขระขึ้นบรรทัดใหม่ที่อยู่หน้า/หลัง\n",
    "            if document_content: # เพิ่มเฉพาะบรรทัดที่ไม่ว่างเปล่า\n",
    "                add_doc(document_content)\n",
    "    print(f\"ประมวลผลเอกสารจาก {file_path} สำเร็จแล้ว\")\n",
    "except FileNotFoundError:\n",
    "    print(f\"ข้อผิดพลาด: ไม่พบไฟล์ '{file_path}'\")\n",
    "except Exception as e:\n",
    "    print(f\"เกิดข้อผิดพลาด: {e}\")\n",
    "# --- สิ้นสุดส่วนการอ่านไฟล์ ---\n",
    "\n",
    "cur.close()\n",
    "conn.close()"
   ]
  },
  {
   "cell_type": "code",
   "execution_count": 3,
   "id": "ba1756d2",
   "metadata": {},
   "outputs": [],
   "source": [
    "#input ข้อมูล เป็น Array\n",
    "import psycopg2\n",
    "from sentence_transformers import SentenceTransformer\n",
    "\n",
    "conn = psycopg2.connect(\n",
    "    dbname=\"fitderdb\",\n",
    "    user=\"admin\",\n",
    "    password=\"1234\",\n",
    "    host=\"localhost\",\n",
    "    port=\"5432\"\n",
    ")\n",
    "cur = conn.cursor()\n",
    "\n",
    "embedder = SentenceTransformer(\"BAAI/bge-m3\") # ตัวแปลง text to vec\n",
    "\n",
    "def add_document(text): #ใส่ข้อมูลเข้า db\n",
    "    embedding = embedder.encode(text).tolist()\n",
    "    cur.execute(\"INSERT INTO documents (content, embedding) VALUES (%s, %s)\", (text, embedding))\n",
    "    conn.commit()\n",
    "\n",
    "documents = [\n",
    "    \"เปิดหลักสูตรระดับปริญญาตรี 5 สาขาวิชา ได้แก่ สาขาวิชาวิทยาการคอมพิวเตอร์ สาขาวิชานวัตกรรมดิจิทัล สาขาวิชาสารสนเทศการลงทุน สาขาวิชาคอมพิวเตอร์เกมและอีสปอร์ต และสาขาวิชาเทคโนโลยีสื่อสังคม\",\n",
    "    \"เปิดหลักสูตรระดับปริญญาโท 3 สาขาวิชา ได้แก่ สาขาวิชาการจัดการความมั่นคงไซเบอร์และเทคโนโลยี สาขาวิชาเทคโนโลยีสื่อสังคม สาขาการจัดการนวัตกรรมดิจิทัล\",\n",
    "    \"หลักสูตรระดับปริญญาโท สาขาการจัดการนวัตกรรมดิจิทัล เรียนแบบออนไลน์\",\n",
    "    \"หลักสูตรระดับปริญญาโท สาขาวิชาการจัดการความมั่นคงไซเบอร์และเทคโนโลยี และสาขาวิชาเทคโนโลยีสื่อสังคม เรียนเสาร์อาทิตย์\",\n",
    "    \"เปิดหลักสูตรระดับปริญญาเอก 2 สาขาวิชา ดังนี้ สาขาวิชาเทคโนโลยีสารสนเทศ และสาขาวิชาเทคโนโลยีสื่อสังคม\",\n",
    "    \"คณบดีคือ รศ.ดร. เชฏฐเนติ ศรีสอ้าน\",\n",
    "    \"วิทยาลัยเทคโนโลยีสารสนเทศและการสื่อสารแห่งมหาวิทยาลัยรังสิต ก่อตั้งเมื่อปี พ.ศ. 2537 ได้เปิดดำเนินการสอนทั้งในระดับปริญญาตรี ปริญญาโท และปริญญาเอกทางด้านสาขาวิชาที่เกี่ยวข้องทาง ด้านเทคโนโลยีสารสนเทศสำหรับกลุ่มนักศึกษา และคนทำงานที่มีพื้นฐานความรู้ที่หลากหลายและประสบการณ์ที่แตกต่างกัน เพื่อที่จะสามารถตอบสนองต่อความต้องการของสังคม\",\n",
    "    \"ปรัชญาคือเหนือกว่าด้วยเทคโนโลยี ก้าวสู่ระดับสากล ปณิธานคือมุ่งมั่นสร้างบัณฑิตไอทีมืออาชีพสู่สังคม และวิสัยทัศน์คือเป็นผู้นำด้านให้บริการการศึกษาทางด้านเทคโนโลยีสารสนเทศ โดยเน้นการวิจัยและสร้างพันธมิตรทางวิชาการเพื่อการพัฒนาอย่างยั่งยืน\"\n",
    "]\n",
    "\n",
    "for doc in documents:\n",
    "    add_document(doc)\n",
    "\n",
    "cur.close()\n",
    "conn.close()"
   ]
  },
  {
   "cell_type": "code",
   "execution_count": null,
   "id": "141749c9",
   "metadata": {},
   "outputs": [],
   "source": [
    "#หน้าตาตัวอย่างข้อมูลที่จะนำเข้า\n",
    "# documents = [\n",
    "#     \"เปิดหลักสูตรระดับปริญญาตรี 5 สาขาวิชา ได้แก่ สาขาวิชาวิทยาการคอมพิวเตอร์ สาขาวิชานวัตกรรมดิจิทัล สาขาวิชาสารสนเทศการลงทุน สาขาวิชาคอมพิวเตอร์เกมและอีสปอร์ต และสาขาวิชาเทคโนโลยีสื่อสังคม\",\n",
    "#     \"เปิดหลักสูตรระดับปริญญาโท 3 สาขาวิชา ได้แก่ สาขาวิชาการจัดการความมั่นคงไซเบอร์และเทคโนโลยี สาขาวิชาเทคโนโลยีสื่อสังคม สาขาการจัดการนวัตกรรมดิจิทัล\",\n",
    "#     \"หลักสูตรระดับปริญญาโท สาขาการจัดการนวัตกรรมดิจิทัล เรียนแบบออนไลน์\",\n",
    "#     \"หลักสูตรระดับปริญญาโท สาขาวิชาการจัดการความมั่นคงไซเบอร์และเทคโนโลยี และสาขาวิชาเทคโนโลยีสื่อสังคม เรียนเสาร์อาทิตย์\",\n",
    "#     \"เปิดหลักสูตรระดับปริญญาเอก 2 สาขาวิชา ดังนี้ สาขาวิชาเทคโนโลยีสารสนเทศ และสาขาวิชาเทคโนโลยีสื่อสังคม\",\n",
    "#     \"คณบดีคือ รศ.ดร. เชฏฐเนติ ศรีสอ้าน\",\n",
    "#     \"วิทยาลัยเทคโนโลยีสารสนเทศและการสื่อสารแห่งมหาวิทยาลัยรังสิต ก่อตั้งเมื่อปี พ.ศ. 2537 ได้เปิดดำเนินการสอนทั้งในระดับปริญญาตรี ปริญญาโท และปริญญาเอกทางด้านสาขาวิชาที่เกี่ยวข้องทาง ด้านเทคโนโลยีสารสนเทศสำหรับกลุ่มนักศึกษา และคนทำงานที่มีพื้นฐานความรู้ที่หลากหลายและประสบการณ์ที่แตกต่างกัน เพื่อที่จะสามารถตอบสนองต่อความต้องการของสังคม\",\n",
    "#     \"ปรัชญาคือเหนือกว่าด้วยเทคโนโลยี ก้าวสู่ระดับสากล ปณิธานคือมุ่งมั่นสร้างบัณฑิตไอทีมืออาชีพสู่สังคม และวิสัยทัศน์คือเป็นผู้นำด้านให้บริการการศึกษาทางด้านเทคโนโลยีสารสนเทศ โดยเน้นการวิจัยและสร้างพันธมิตรทางวิชาการเพื่อการพัฒนาอย่างยั่งยืน\"\n",
    "# ]"
   ]
  }
 ],
 "metadata": {
  "kernelspec": {
   "display_name": ".venv",
   "language": "python",
   "name": "python3"
  },
  "language_info": {
   "codemirror_mode": {
    "name": "ipython",
    "version": 3
   },
   "file_extension": ".py",
   "mimetype": "text/x-python",
   "name": "python",
   "nbconvert_exporter": "python",
   "pygments_lexer": "ipython3",
   "version": "3.11.0"
  }
 },
 "nbformat": 4,
 "nbformat_minor": 5
}
